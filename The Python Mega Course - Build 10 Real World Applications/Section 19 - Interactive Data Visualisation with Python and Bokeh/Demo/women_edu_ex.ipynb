{
 "cells": [
  {
   "cell_type": "code",
   "execution_count": 1,
   "id": "c6153900",
   "metadata": {},
   "outputs": [],
   "source": [
    "from bokeh.plotting import figure\n",
    "from bokeh.io import output_file, show\n",
    "import pandas\n",
    "\n",
    "df = pandas.read_csv(\"women_edu_data.csv\")\n",
    "year = df[\"Year\"]\n",
    "engineering = df[\"Engineering\"]\n",
    "\n",
    "output_file(\"women_edu_graph.html\")\n",
    "\n",
    "f = figure()\n",
    "f.line(year, engineering)\n",
    "\n",
    "show(f)"
   ]
  }
 ],
 "metadata": {
  "kernelspec": {
   "display_name": "Python 3 (ipykernel)",
   "language": "python",
   "name": "python3"
  },
  "language_info": {
   "codemirror_mode": {
    "name": "ipython",
    "version": 3
   },
   "file_extension": ".py",
   "mimetype": "text/x-python",
   "name": "python",
   "nbconvert_exporter": "python",
   "pygments_lexer": "ipython3",
   "version": "3.8.6"
  }
 },
 "nbformat": 4,
 "nbformat_minor": 5
}
