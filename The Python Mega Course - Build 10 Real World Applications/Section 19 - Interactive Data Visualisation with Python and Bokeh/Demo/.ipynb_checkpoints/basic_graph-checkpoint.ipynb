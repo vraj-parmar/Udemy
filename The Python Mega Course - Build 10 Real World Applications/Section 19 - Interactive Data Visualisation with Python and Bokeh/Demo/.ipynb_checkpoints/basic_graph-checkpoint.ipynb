{
 "cells": [
  {
   "cell_type": "code",
   "execution_count": 1,
   "id": "5a1bc0d8",
   "metadata": {},
   "outputs": [],
   "source": [
    "# Making a basic Bokeh Line Graph\n",
    "\n",
    "# importing bokeh\n",
    "from bokeh.plotting import figure\n",
    "from bokeh.io import output_file, show\n",
    "\n",
    "# Preparing some data\n",
    "x = [1, 2, 3, 4, 5]\n",
    "y = [6, 7, 8, 9, 10]\n",
    "\n",
    "# Prepare the output file\n",
    "output_file(\"line.html\")\n",
    "\n",
    "# Create figure object\n",
    "f = figure()\n",
    "\n",
    "# Create line plot\n",
    "f.line(x, y)\n",
    "\n",
    "# Write the plot in the figure object\n",
    "show(f)"
   ]
  },
  {
   "cell_type": "code",
   "execution_count": 4,
   "id": "1bd5de5b",
   "metadata": {},
   "outputs": [],
   "source": [
    "# Making a basic Bokeh Line Graph\n",
    "\n",
    "# importing bokeh and pandas\n",
    "from bokeh.plotting import figure\n",
    "from bokeh.io import output_file, show\n",
    "import pandas\n",
    "\n",
    "# Preparing some data\n",
    "df = pandas.read_csv(\"data.csv\")\n",
    "x = df[\"x\"]\n",
    "y = df[\"y\"]\n",
    "\n",
    "# Prepare the output file\n",
    "output_file(\"line_from_csv.html\")\n",
    "\n",
    "# Create figure object\n",
    "f = figure()\n",
    "\n",
    "# Create line plot\n",
    "f.line(x, y)\n",
    "\n",
    "# Write the plot in the figure object\n",
    "show(f)"
   ]
  },
  {
   "cell_type": "code",
   "execution_count": 9,
   "id": "e0072ae3",
   "metadata": {},
   "outputs": [],
   "source": [
    "import pandas\n",
    "from bokeh.plotting import figure\n",
    "from bokeh.io import output_file, show\n",
    " \n",
    "f = figure(plot_width = 500, plot_height = 400, tools = 'pan')\n",
    " \n",
    "f.title.text = \"Cool Data\"\n",
    "f.title.text_color = \"Gray\"\n",
    "f.title.text_font = \"times\"\n",
    "f.title.text_font_style = \"bold\"\n",
    "f.xaxis.minor_tick_line_color = None\n",
    "f.yaxis.minor_tick_line_color = None\n",
    "f.xaxis.axis_label = \"Date\"\n",
    "f.yaxis.axis_label = \"Intensity\"    \n",
    " \n",
    "f.line([1,2,3],[4,5,6])\n",
    "output_file(\"cool_graph.html\")\n",
    "show(f)"
   ]
  },
  {
   "cell_type": "code",
   "execution_count": 18,
   "id": "9ca25f0e",
   "metadata": {},
   "outputs": [],
   "source": [
    "from bokeh.plotting import figure, output_file, show\n",
    "\n",
    "p = figure(plot_width=500, plot_height=400, tools = 'pan, reset')\n",
    "\n",
    "p.title.text = \"Earthquakes\"\n",
    "p.title.text_color = \"Orange\"\n",
    "p.title.text_font = \"times\"\n",
    "p.title.text_font_style = \"italic\"\n",
    "p.yaxis.minor_tick_line_color = \"Yellow\"\n",
    "p.xaxis.axis_label = \"Times\"\n",
    "p.yaxis.axis_label = \"Value\"\n",
    "\n",
    "p.line([1,2,3,4,5], [5,6,5,5,3], width = 2, color=\"red\", alpha=0.5)\n",
    "p.circle([1,2,3,4,5], [5,6,5,5,3], size = [i*2 for i in [8,12,14,15,20]], color=\"red\", alpha=0.5)\n",
    "\n",
    "output_file(\"Scatter_plotting.html\")\n",
    "\n",
    "show(p)"
   ]
  },
  {
   "cell_type": "code",
   "execution_count": 17,
   "id": "28021b30",
   "metadata": {},
   "outputs": [],
   "source": [
    "from bokeh.plotting import figure, output_file, show\n",
    "import pandas\n",
    "\n",
    "df = pandas.read_csv(\"adbe.csv\", parse_dates = [\"Date\"])\n",
    "\n",
    "p = figure(width = 500, height = 250, x_axis_type = \"datetime\", sizing_mode=\"scale_both\")\n",
    "\n",
    "p.line(df[\"Date\"], df[\"Close\"], color = \"Orange\", alpha = 0.5)\n",
    "\n",
    "output_file(\"Time_series.html\")\n",
    "\n",
    "show(p)"
   ]
  }
 ],
 "metadata": {
  "kernelspec": {
   "display_name": "Python 3 (ipykernel)",
   "language": "python",
   "name": "python3"
  },
  "language_info": {
   "codemirror_mode": {
    "name": "ipython",
    "version": 3
   },
   "file_extension": ".py",
   "mimetype": "text/x-python",
   "name": "python",
   "nbconvert_exporter": "python",
   "pygments_lexer": "ipython3",
   "version": "3.8.6"
  }
 },
 "nbformat": 4,
 "nbformat_minor": 5
}
